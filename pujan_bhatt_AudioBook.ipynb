{
 "cells": [
  {
   "cell_type": "markdown",
   "metadata": {},
   "source": [
    "# Create an Audiobook from a PDF\n",
    "## This task tests your ability to apply Text to Speech conversion and Extraction of Text from PDF files in the creation of an audiobook from a PDF file"
   ]
  },
  {
   "cell_type": "markdown",
   "metadata": {},
   "source": [
    "### Steps\n",
    "- Extract text from PDF file\n",
    "- Clean the text\n",
    "- Convert the text into speech\n",
    "- Save the speech\n",
    "- Play the speech"
   ]
  },
  {
   "cell_type": "markdown",
   "metadata": {},
   "source": [
    "## 1. Extract text from PDF\n",
    "- Use PyPDF2"
   ]
  },
  {
   "cell_type": "markdown",
   "metadata": {},
   "source": [
    "### Install the library"
   ]
  },
  {
   "cell_type": "code",
   "execution_count": 4,
   "metadata": {},
   "outputs": [
    {
     "name": "stdout",
     "output_type": "stream",
     "text": [
      "Requirement already satisfied: PyPDF2 in c:\\programdata\\anaconda3\\lib\\site-packages (3.0.1)\n",
      "Collecting pyttsx3\n",
      "  Obtaining dependency information for pyttsx3 from https://files.pythonhosted.org/packages/33/9a/de4781245f5ad966646fd276259ef7cfd400ba3cf7d5db7c0d5aab310c20/pyttsx3-2.90-py3-none-any.whl.metadata\n",
      "  Downloading pyttsx3-2.90-py3-none-any.whl.metadata (3.6 kB)\n",
      "Collecting comtypes (from pyttsx3)\n",
      "  Obtaining dependency information for comtypes from https://files.pythonhosted.org/packages/2b/82/b897453a633dfd25bc09492e91b27f2f2fed5c9ef8d6d5fd7ecdb5148786/comtypes-1.3.1-py3-none-any.whl.metadata\n",
      "  Downloading comtypes-1.3.1-py3-none-any.whl.metadata (5.6 kB)\n",
      "Collecting pypiwin32 (from pyttsx3)\n",
      "  Obtaining dependency information for pypiwin32 from https://files.pythonhosted.org/packages/d0/1b/2f292bbd742e369a100c91faa0483172cd91a1a422a6692055ac920946c5/pypiwin32-223-py3-none-any.whl.metadata\n",
      "  Downloading pypiwin32-223-py3-none-any.whl.metadata (236 bytes)\n",
      "Requirement already satisfied: pywin32 in c:\\programdata\\anaconda3\\lib\\site-packages (from pyttsx3) (305.1)\n",
      "Downloading pyttsx3-2.90-py3-none-any.whl (39 kB)\n",
      "Downloading comtypes-1.3.1-py3-none-any.whl (197 kB)\n",
      "   ---------------------------------------- 0.0/197.8 kB ? eta -:--:--\n",
      "   ------------------ --------------------- 92.2/197.8 kB 2.6 MB/s eta 0:00:01\n",
      "   ---------------------------------------- 197.8/197.8 kB 3.0 MB/s eta 0:00:00\n",
      "Downloading pypiwin32-223-py3-none-any.whl (1.7 kB)\n",
      "Installing collected packages: comtypes, pypiwin32, pyttsx3\n",
      "Successfully installed comtypes-1.3.1 pypiwin32-223 pyttsx3-2.90\n"
     ]
    }
   ],
   "source": [
    "! pip install PyPDF2\n",
    "! pip install pyttsx3"
   ]
  },
  {
   "cell_type": "markdown",
   "metadata": {},
   "source": [
    "### Import the library"
   ]
  },
  {
   "cell_type": "code",
   "execution_count": 17,
   "metadata": {},
   "outputs": [],
   "source": [
    "import PyPDF2\n"
   ]
  },
  {
   "cell_type": "code",
   "execution_count": 22,
   "metadata": {},
   "outputs": [],
   "source": [
    "pdf_file_path = r'C:\\Users\\16395\\OneDrive\\Desktop\\ml_exam\\Canada.pdf'\n",
    "\n"
   ]
  },
  {
   "cell_type": "markdown",
   "metadata": {},
   "source": [
    "### Extract the text"
   ]
  },
  {
   "cell_type": "code",
   "execution_count": 23,
   "metadata": {},
   "outputs": [],
   "source": [
    "pdf_reader = PyPDF2.PdfReader(pdf_file_path)"
   ]
  },
  {
   "cell_type": "markdown",
   "metadata": {},
   "source": [
    "### Print the extracted text"
   ]
  },
  {
   "cell_type": "code",
   "execution_count": 24,
   "metadata": {},
   "outputs": [
    {
     "name": "stdout",
     "output_type": "stream",
     "text": [
      " \n",
      "Canada, a nation celebrated for its expansive landscapes, cultural diversity, and progressive values, \n",
      "stands as a beacon of inclusivity and natural splendor on the global stage. In this essay, we embark on a \n",
      "journey to unravel the multifaceted essence of C anada, delving into its rich tapestry of geography, \n",
      "culture, society, and values.  \n",
      " \n",
      "First and foremost, Canada's geographical diversity is a defining characteristic that shapes its identity. \n",
      "From the majestic Rocky Mountains to the rugged coastlines of the Atlantic and Pacific, and the vast \n",
      "expanse of the Canadian Shield, the country boasts a myriad of breathtaking landscapes. These natural \n",
      "wonders not only inspire awe but also serve as a playground for outdoor enthusiasts and a sanctuary for \n",
      "wildlife.  \n",
      " \n",
      "Furthermore, Canada's cultural mosaic reflects the amalgamation of indigenous heritage and immigrant \n",
      "influences from around the globe. Indigenous peoples, with their rich traditions and profound \n",
      "connection to the land, form an integral part of Canada's cultura l fabric. Their resilience and enduring \n",
      "presence remind us of the country's complex history and the ongoing journey towards reconciliation.  \n",
      " \n",
      "In addition, Canada's multicultural cities serve as vibrant hubs where diverse communities coexist and \n",
      "thrive. Toro nto, Vancouver, Montreal, and other urban centers pulsate with energy, offering a \n",
      "kaleidoscope of languages, cuisines, and traditions. This cultural dynamism not only fosters tolerance \n",
      "and understanding but also fuels creativity and innovation, making Cana da a global leader in various \n",
      "fields.  \n",
      " \n",
      "Moreover, Canada's commitment to inclusivity and social justice underscores its progressive values. The \n",
      "country's universal healthcare system, emphasis on education, and respect for human rights exemplify \n",
      "its dedicati on to creating a fair and equitable society. Furthermore, Canada's embrace of diversity and \n",
      "LGBTQ+ rights sets a precedent for inclusivity and acceptance worldwide.  \n",
      " \n",
      "Nevertheless, Canada is not without its challenges and complexities. Issues such as reconc iliation with \n",
      "indigenous peoples, environmental conservation, and social inequality continue to shape the national \n",
      "discourse and demand collective action. Yet, it is precisely in confronting these challenges that Canada \n",
      "reaffirms its commitment to justice,  sustainability, and unity.  \n",
      " \n",
      "In conclusion, Canada's essence lies in its diversity, inclusivity, and natural beauty. As a nation, it \n",
      "embodies the spirit of resilience, compassion, and progress, offering a model for peaceful coexistence \n",
      "and sustainable deve lopment. By embracing its rich heritage and diverse communities, Canada \n",
      "continues to inspire the world as a land of opportunity, equality, and hope.  \n"
     ]
    }
   ],
   "source": [
    "from_page = pdf_reader.pages[0]\n",
    "text = from_page.extract_text()\n",
    "print(text)"
   ]
  },
  {
   "cell_type": "markdown",
   "metadata": {},
   "source": [
    "## 2. Convert the Text into Speech\n",
    "- Use **pyttsx3** OR **gTTS**"
   ]
  },
  {
   "cell_type": "markdown",
   "metadata": {},
   "source": [
    "### Import the library"
   ]
  },
  {
   "cell_type": "code",
   "execution_count": null,
   "metadata": {},
   "outputs": [],
   "source": [
    "import pyttsx3"
   ]
  },
  {
   "cell_type": "markdown",
   "metadata": {},
   "source": [
    "### Initialize a Speaker object and speak the text"
   ]
  },
  {
   "cell_type": "code",
   "execution_count": 28,
   "metadata": {},
   "outputs": [],
   "source": [
    "speech_engine = pyttsx3.init()\n",
    "# Convert text to speech\n",
    "speech_engine.say(text)\n",
    "speech_engine.runAndWait()"
   ]
  },
  {
   "cell_type": "markdown",
   "metadata": {},
   "source": [
    "### Save the speech to the audio file"
   ]
  },
  {
   "cell_type": "code",
   "execution_count": 29,
   "metadata": {},
   "outputs": [],
   "source": [
    "audio_file_path = r'C:\\Users\\16395\\OneDrive\\Desktop\\ml_exam\\output_audio.wav'"
   ]
  },
  {
   "cell_type": "code",
   "execution_count": 30,
   "metadata": {},
   "outputs": [],
   "source": [
    "# Save the speech to the audio file\n",
    "speech_engine.save_to_file(text, audio_file_path)\n",
    "speech_engine.runAndWait()"
   ]
  },
  {
   "cell_type": "code",
   "execution_count": 31,
   "metadata": {},
   "outputs": [
    {
     "name": "stdout",
     "output_type": "stream",
     "text": [
      "Audio saved to: C:\\Users\\16395\\OneDrive\\Desktop\\ml_exam\\output_audio.wav\n"
     ]
    }
   ],
   "source": [
    "print(f\"Audio saved to: {audio_file_path}\")"
   ]
  },
  {
   "cell_type": "code",
   "execution_count": null,
   "metadata": {},
   "outputs": [],
   "source": []
  }
 ],
 "metadata": {
  "kernelspec": {
   "display_name": "Python 3 (ipykernel)",
   "language": "python",
   "name": "python3"
  },
  "language_info": {
   "codemirror_mode": {
    "name": "ipython",
    "version": 3
   },
   "file_extension": ".py",
   "mimetype": "text/x-python",
   "name": "python",
   "nbconvert_exporter": "python",
   "pygments_lexer": "ipython3",
   "version": "3.11.5"
  }
 },
 "nbformat": 4,
 "nbformat_minor": 4
}
